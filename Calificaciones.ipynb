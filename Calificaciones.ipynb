{
  "nbformat": 4,
  "nbformat_minor": 0,
  "metadata": {
    "colab": {
      "name": "Calificaciones ",
      "provenance": []
    },
    "kernelspec": {
      "name": "python3",
      "display_name": "Python 3"
    },
    "language_info": {
      "name": "python"
    }
  },
  "cells": [
    {
      "cell_type": "code",
      "execution_count": null,
      "metadata": {
        "id": "de-2HlYFQOiN"
      },
      "outputs": [],
      "source": [
        "S=[]\n",
        "cal=float(input(\"ingresa la calificacion:\"))\n",
        "if(cal<7):\n",
        "  print(\"reprobado:(\")\n",
        "else:\n",
        "  print(\"aprobado:)\")"
      ]
    }
  ]
}