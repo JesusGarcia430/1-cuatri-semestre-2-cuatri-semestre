{
  "nbformat": 4,
  "nbformat_minor": 0,
  "metadata": {
    "colab": {
      "name": "1º Ejemplo De Arreglo Bidimensional ",
      "provenance": []
    },
    "kernelspec": {
      "name": "python3",
      "display_name": "Python 3"
    },
    "language_info": {
      "name": "python"
    }
  },
  "cells": [
    {
      "cell_type": "code",
      "source": [
        "#Se establece el tamaño del arreglo\n",
        "m=int(input(\"Ingresa el número de filas: \")) #Filas\n",
        "n=int(input(\"Ingresa el número de columnas: \")) #Columnas\n",
        "\n",
        "#Se crea el arreglo\n",
        "A=[]\n",
        "\n",
        "#Se crea una variable para establecer si es de Netflix o de Disney + que inicia vacía\n",
        "valor=\"\"\n",
        "\n",
        "#Se inicializa el arreglo, es un proceso necesario para los arreglos bidimensionales\n",
        "for i in range(m):\n",
        "  A.append([0]*n)\n",
        "\n",
        "#Inicia el proceso de llenado del arreglo bidimensional\n",
        "for i in range (m):\n",
        "\n",
        "  #Este if es auxiliar solamente para mostrar Netflix o Disney + en la captura\n",
        "  if (i==0):\n",
        "    valor=\"Netflix\"\n",
        "  else:\n",
        "    valor=\"Disney \"\n",
        "\n",
        "  for j in range (n):\n",
        "    #Así se llena el arreglo bidimensional\n",
        "   A[i][j]=input(\"Introduzca la serie \"+str(j+1)+\" de \"+valor+\": \") \n",
        "#str=\n",
        "#Se imprime el arreglo bidimensional\n",
        "print(A)"
      ],
      "metadata": {
        "id": "OGKBtXsGRU3W"
      },
      "execution_count": null,
      "outputs": []
    }
  ]
}