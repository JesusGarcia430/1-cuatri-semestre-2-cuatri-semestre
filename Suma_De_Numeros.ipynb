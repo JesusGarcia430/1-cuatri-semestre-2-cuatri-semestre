{
  "nbformat": 4,
  "nbformat_minor": 0,
  "metadata": {
    "colab": {
      "name": "Suma De Numeros",
      "provenance": []
    },
    "kernelspec": {
      "name": "python3",
      "display_name": "Python 3"
    },
    "language_info": {
      "name": "python"
    }
  },
  "cells": [
    {
      "cell_type": "code",
      "execution_count": null,
      "metadata": {
        "id": "de-2HlYFQOiN"
      },
      "outputs": [],
      "source": [
        "n1=int(input(\"ingresa el primer numero:\"));\n",
        "n2=int(input(\"ingresa el segundo numero:\"));\n",
        "sum=n1+n2;\n",
        "print (\"El resultado es:\",sum);"
      ]
    }
  ]
}