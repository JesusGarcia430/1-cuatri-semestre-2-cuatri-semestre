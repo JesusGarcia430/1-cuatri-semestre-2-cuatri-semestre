{
  "nbformat": 4,
  "nbformat_minor": 0,
  "metadata": {
    "colab": {
      "name": "Numeros Par/Impar Con Arreglo ",
      "provenance": []
    },
    "kernelspec": {
      "name": "python3",
      "display_name": "Python 3"
    },
    "language_info": {
      "name": "python"
    }
  },
  "cells": [
    {
      "cell_type": "code",
      "source": [
        "A=[]\n",
        "num=int(input(\"Ingresa el rango: \"))\n",
        "for i in range(0,num):\n",
        "  A.append(int(input(\"Ingresa el numero: \")))\n",
        "for i in range(1,num):\n",
        "  for i in range(0,(num-1)):\n",
        "    compara1=A[i]%2\n",
        "    compara2=A[i+1]%2\n",
        "    if(compara1>compara2):\n",
        "        var=A[i]\n",
        "        A[i]=A[i+1]\n",
        "        A[i+1]=var\n",
        "print(A)"
      ],
      "metadata": {
        "id": "OGKBtXsGRU3W"
      },
      "execution_count": null,
      "outputs": []
    }
  ]
}