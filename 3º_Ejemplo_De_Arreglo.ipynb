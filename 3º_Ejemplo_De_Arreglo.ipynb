{
  "nbformat": 4,
  "nbformat_minor": 0,
  "metadata": {
    "colab": {
      "name": "3º Ejemplo De Arreglo",
      "provenance": []
    },
    "kernelspec": {
      "name": "python3",
      "display_name": "Python 3"
    },
    "language_info": {
      "name": "python"
    }
  },
  "cells": [
    {
      "cell_type": "code",
      "source": [
        "Prueba=[]\n",
        "Prueba.append(int(input('Ingresa un numero:')))\n",
        "Prueba.append(int(input('Ingresa un numero:')))\n",
        "Prueba.append(int(input('Ingresa un numero:')))\n",
        "Prueba.append(int(input('Ingresa un numero:')))\n",
        "Prueba.append(int(input('Ingresa un numero:')))\n",
        "Prueba.append(int(input('Ingresa un numero:')))\n",
        "print(Prueba[0])\n",
        "print(Prueba[3])\n",
        "print(Prueba[4])"
      ],
      "metadata": {
        "id": "OGKBtXsGRU3W"
      },
      "execution_count": null,
      "outputs": []
    }
  ]
}