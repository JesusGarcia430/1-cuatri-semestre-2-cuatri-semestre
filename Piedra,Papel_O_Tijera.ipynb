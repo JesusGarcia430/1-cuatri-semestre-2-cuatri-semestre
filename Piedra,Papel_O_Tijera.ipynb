{
  "nbformat": 4,
  "nbformat_minor": 0,
  "metadata": {
    "colab": {
      "name": "Piedra,Papel O Tijera",
      "provenance": []
    },
    "kernelspec": {
      "name": "python3",
      "display_name": "Python 3"
    },
    "language_info": {
      "name": "python"
    }
  },
  "cells": [
    {
      "cell_type": "code",
      "execution_count": null,
      "metadata": {
        "id": "de-2HlYFQOiN"
      },
      "outputs": [],
      "source": [
        "#1. Piedra\n",
        "#2. Papel\n",
        "#3. Tijera\n",
        "n1=int(input('ingresa jugador 1 opcion: '))\n",
        "n2=int(input('ingresa jugador 2 opcion: '))\n",
        "\n",
        "if((n1==1)and(n2==2)):\n",
        "  print(\"Gana n2\")\n",
        "elif((n1==1)and(n2==3)):\n",
        "  print(\"Gana n1\")\n",
        "elif((n1==1)and(n2==1)):\n",
        "  print(\"Empate\")\n",
        "elif((n1==2)and(n2==3)):\n",
        "  print(\"Gana n2\")\n",
        "elif((n1==2)and(n2==1)):\n",
        "  print(\"Gana n1\")\n",
        "elif((n1==3)and(n2==3)):\n",
        "  print(\"Empate\")\n",
        "elif((n1==3)and(n2==1)):\n",
        "  print(\"Gana n2\")\n",
        "elif((n1==3)and(n2==2)):\n",
        "  print(\"Gana n1\")\n",
        "elif((n1==3)and(n2==3)):\n",
        "  print(\"Empate\")"
      ]
    }
  ]
}