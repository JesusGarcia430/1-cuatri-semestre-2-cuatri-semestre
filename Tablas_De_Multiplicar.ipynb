{
  "nbformat": 4,
  "nbformat_minor": 0,
  "metadata": {
    "colab": {
      "name": "Tablas De Multiplicar",
      "provenance": []
    },
    "kernelspec": {
      "name": "python3",
      "display_name": "Python 3"
    },
    "language_info": {
      "name": "python"
    }
  },
  "cells": [
    {
      "cell_type": "code",
      "source": [
        "s=int(input('ingresa la tabla desea ver:'))\n",
        "for i in range(0,11):\n",
        "  resultado=s*i\n",
        "  print(s, \"*\", i, \"=\", resultado)"
      ],
      "metadata": {
        "id": "OGKBtXsGRU3W"
      },
      "execution_count": null,
      "outputs": []
    }
  ]
}