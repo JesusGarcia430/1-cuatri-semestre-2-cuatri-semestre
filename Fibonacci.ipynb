{
  "nbformat": 4,
  "nbformat_minor": 0,
  "metadata": {
    "colab": {
      "name": "Fibonacci",
      "provenance": []
    },
    "kernelspec": {
      "name": "python3",
      "display_name": "Python 3"
    },
    "language_info": {
      "name": "python"
    }
  },
  "cells": [
    {
      "cell_type": "code",
      "source": [
        "a=0\n",
        "b=1\n",
        "n=int(input('Ingresa el numero: '))\n",
        "if n==0:\n",
        "  print(a)\n",
        "elif n==1:\n",
        "  print(a,b)\n",
        "elif(n>2):\n",
        "  print(a)\n",
        "  print(b)\n",
        "  for i in range(n-2):\n",
        "    total= a + b\n",
        "    a=b\n",
        "    b=total\n",
        "    print(total)\n",
        "\n"
      ],
      "metadata": {
        "id": "OGKBtXsGRU3W"
      },
      "execution_count": null,
      "outputs": []
    }
  ]
}