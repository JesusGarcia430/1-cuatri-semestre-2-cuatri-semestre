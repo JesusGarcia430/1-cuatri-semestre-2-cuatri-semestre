{
  "nbformat": 4,
  "nbformat_minor": 0,
  "metadata": {
    "colab": {
      "name": "Calculadora Basica",
      "provenance": []
    },
    "kernelspec": {
      "name": "python3",
      "display_name": "Python 3"
    },
    "language_info": {
      "name": "python"
    }
  },
  "cells": [
    {
      "cell_type": "code",
      "execution_count": null,
      "metadata": {
        "id": "de-2HlYFQOiN"
      },
      "outputs": [],
      "source": [
        "num1=int(input('insertar el primer número: '))\n",
        "num2=int(input('insertar el segundo número: '))\n",
        "\n",
        "\n",
        "operacion=int(input('Operación a realizar:  '))\n",
        "\n",
        "#1. Suma\n",
        "#2. Resta\n",
        "#3. Multiplicación\n",
        "#4. División\n",
        "\n",
        "Total=0\n",
        "if(operacion==1):\n",
        "  total=num1+num2\n",
        "elif(operacion==2):\n",
        "  total=num1-num2\n",
        "elif(operacion==3):\n",
        "  total=num1*num2\n",
        "elif(operacion==4):\n",
        "  total=num1/num2\n",
        "\n",
        "print(total)\n"
      ]
    }
  ]
}