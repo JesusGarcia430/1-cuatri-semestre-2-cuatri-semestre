{
  "nbformat": 4,
  "nbformat_minor": 0,
  "metadata": {
    "colab": {
      "name": "2º Ejemplo De Arreglo",
      "provenance": []
    },
    "kernelspec": {
      "name": "python3",
      "display_name": "Python 3"
    },
    "language_info": {
      "name": "python"
    }
  },
  "cells": [
    {
      "cell_type": "code",
      "source": [
        "Numeros=[1,2,3,4,5,6,7,8,9]\n",
        "print(Numeros[0])"
      ],
      "metadata": {
        "id": "OGKBtXsGRU3W"
      },
      "execution_count": null,
      "outputs": []
    }
  ]
}