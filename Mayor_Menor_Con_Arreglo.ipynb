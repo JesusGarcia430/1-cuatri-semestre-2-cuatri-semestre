{
  "nbformat": 4,
  "nbformat_minor": 0,
  "metadata": {
    "colab": {
      "name": "Mayor/Menor Con Arreglo ",
      "provenance": []
    },
    "kernelspec": {
      "name": "python3",
      "display_name": "Python 3"
    },
    "language_info": {
      "name": "python"
    }
  },
  "cells": [
    {
      "cell_type": "code",
      "source": [
        "numeros=[]\n",
        "S=10\n",
        "for i in range(S):\n",
        "    numeros.append(int(input('Ingrese el valor del elemento ')))\n",
        "for i in range(1,S):\n",
        "  for j in range(0,S-i):\n",
        "    if numeros[j]>numeros[j+1]:\n",
        "            Aux=numeros[j]\n",
        "            numeros[j]=numeros[j+1]\n",
        "            numeros[j+1]=Aux\n",
        "print(numeros)\n",
        "for j in range(0,S):\n",
        "  if numeros[j]<numeros[j+1]:\n",
        "    aux=numeros[j]\n",
        "    numeros[j]=numeros[i]\n",
        "    numeros[i]=aux\n",
        "    S=S-1\n",
        "print(numeros)\n"
      ],
      "metadata": {
        "id": "OGKBtXsGRU3W"
      },
      "execution_count": null,
      "outputs": []
    }
  ]
}