{
  "nbformat": 4,
  "nbformat_minor": 0,
  "metadata": {
    "colab": {
      "name": "1º Ejemplo De Como Guardar En Un Archivo De Texto",
      "provenance": []
    },
    "kernelspec": {
      "name": "python3",
      "display_name": "Python 3"
    },
    "language_info": {
      "name": "python"
    }
  },
  "cells": [
    {
      "cell_type": "code",
      "source": [
        "#construir archivo \n",
        "f=open('archivo.txt','a') #\n",
        "f.write(\"\") #\n",
        "f.write(str(k+15)) #\n",
        "f.close() #"
      ],
      "metadata": {
        "id": "OGKBtXsGRU3W"
      },
      "execution_count": null,
      "outputs": []
    }
  ]
}